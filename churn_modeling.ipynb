{
 "cells": [
  {
   "cell_type": "code",
   "execution_count": 1,
   "id": "748f98ec-5f80-4b64-924f-cc841992f94b",
   "metadata": {},
   "outputs": [],
   "source": [
    "## Problem statement- Based on the feature we want to predict the person will \n",
    "#leave the bank or not"
   ]
  },
  {
   "cell_type": "code",
   "execution_count": null,
   "id": "b53a0fc2-3a5b-4dca-9025-e46451532514",
   "metadata": {},
   "outputs": [],
   "source": []
  }
 ],
 "metadata": {
  "kernelspec": {
   "display_name": "Python 3 (ipykernel)",
   "language": "python",
   "name": "python3"
  },
  "language_info": {
   "codemirror_mode": {
    "name": "ipython",
    "version": 3
   },
   "file_extension": ".py",
   "mimetype": "text/x-python",
   "name": "python",
   "nbconvert_exporter": "python",
   "pygments_lexer": "ipython3",
   "version": "3.12.3"
  },
  "widgets": {
   "application/vnd.jupyter.widget-state+json": {
    "state": {},
    "version_major": 2,
    "version_minor": 0
   }
  }
 },
 "nbformat": 4,
 "nbformat_minor": 5
}
